{
 "cells": [
  {
   "cell_type": "code",
   "execution_count": null,
   "id": "b08c9ba0",
   "metadata": {},
   "outputs": [],
   "source": [
    "import pandas as pd\n",
    "import numpy as np\n",
    "import matplotlib.pyplot as plt\n",
    "import seaborn as sns\n",
    "from sklearn.preprocessing import LabelEncoder, MinMaxScaler\n",
    "import plotly.express as px\n",
    "\n"
   ]
  },
  {
   "cell_type": "code",
   "execution_count": 2,
   "id": "965255e2",
   "metadata": {},
   "outputs": [
    {
     "data": {
      "text/html": [
       "<div>\n",
       "<style scoped>\n",
       "    .dataframe tbody tr th:only-of-type {\n",
       "        vertical-align: middle;\n",
       "    }\n",
       "\n",
       "    .dataframe tbody tr th {\n",
       "        vertical-align: top;\n",
       "    }\n",
       "\n",
       "    .dataframe thead th {\n",
       "        text-align: right;\n",
       "    }\n",
       "</style>\n",
       "<table border=\"1\" class=\"dataframe\">\n",
       "  <thead>\n",
       "    <tr style=\"text-align: right;\">\n",
       "      <th></th>\n",
       "      <th>TransactionID</th>\n",
       "      <th>CustomerID</th>\n",
       "      <th>Gender</th>\n",
       "      <th>Age</th>\n",
       "      <th>City</th>\n",
       "      <th>ProductCategory</th>\n",
       "      <th>Quantity</th>\n",
       "      <th>Price</th>\n",
       "      <th>PurchaseDate</th>\n",
       "      <th>PaymentMode</th>\n",
       "      <th>TotalAmount</th>\n",
       "    </tr>\n",
       "  </thead>\n",
       "  <tbody>\n",
       "    <tr>\n",
       "      <th>0</th>\n",
       "      <td>T00001</td>\n",
       "      <td>C2824</td>\n",
       "      <td>Female</td>\n",
       "      <td>33</td>\n",
       "      <td>Bengaluru</td>\n",
       "      <td>Fashion</td>\n",
       "      <td>3</td>\n",
       "      <td>4479</td>\n",
       "      <td>2023-03-15</td>\n",
       "      <td>Cash</td>\n",
       "      <td>13437</td>\n",
       "    </tr>\n",
       "    <tr>\n",
       "      <th>1</th>\n",
       "      <td>T00002</td>\n",
       "      <td>C1409</td>\n",
       "      <td>Other</td>\n",
       "      <td>20</td>\n",
       "      <td>Pune</td>\n",
       "      <td>Books</td>\n",
       "      <td>5</td>\n",
       "      <td>1051</td>\n",
       "      <td>2023-01-22</td>\n",
       "      <td>Card</td>\n",
       "      <td>5255</td>\n",
       "    </tr>\n",
       "    <tr>\n",
       "      <th>2</th>\n",
       "      <td>T00003</td>\n",
       "      <td>C5506</td>\n",
       "      <td>Other</td>\n",
       "      <td>47</td>\n",
       "      <td>Pune</td>\n",
       "      <td>Furniture</td>\n",
       "      <td>1</td>\n",
       "      <td>111</td>\n",
       "      <td>2023-04-18</td>\n",
       "      <td>Wallet</td>\n",
       "      <td>111</td>\n",
       "    </tr>\n",
       "    <tr>\n",
       "      <th>3</th>\n",
       "      <td>T00004</td>\n",
       "      <td>C5012</td>\n",
       "      <td>Other</td>\n",
       "      <td>21</td>\n",
       "      <td>Hyderabad</td>\n",
       "      <td>Groceries</td>\n",
       "      <td>5</td>\n",
       "      <td>2946</td>\n",
       "      <td>2023-08-09</td>\n",
       "      <td>Cash</td>\n",
       "      <td>14730</td>\n",
       "    </tr>\n",
       "    <tr>\n",
       "      <th>4</th>\n",
       "      <td>T00005</td>\n",
       "      <td>C4657</td>\n",
       "      <td>Female</td>\n",
       "      <td>41</td>\n",
       "      <td>Chennai</td>\n",
       "      <td>Sports</td>\n",
       "      <td>1</td>\n",
       "      <td>3123</td>\n",
       "      <td>2023-09-23</td>\n",
       "      <td>Wallet</td>\n",
       "      <td>3123</td>\n",
       "    </tr>\n",
       "  </tbody>\n",
       "</table>\n",
       "</div>"
      ],
      "text/plain": [
       "  TransactionID CustomerID  Gender  Age       City ProductCategory  Quantity  \\\n",
       "0        T00001      C2824  Female   33  Bengaluru         Fashion         3   \n",
       "1        T00002      C1409   Other   20       Pune           Books         5   \n",
       "2        T00003      C5506   Other   47       Pune       Furniture         1   \n",
       "3        T00004      C5012   Other   21  Hyderabad       Groceries         5   \n",
       "4        T00005      C4657  Female   41    Chennai          Sports         1   \n",
       "\n",
       "   Price PurchaseDate PaymentMode  TotalAmount  \n",
       "0   4479   2023-03-15        Cash        13437  \n",
       "1   1051   2023-01-22        Card         5255  \n",
       "2    111   2023-04-18      Wallet          111  \n",
       "3   2946   2023-08-09        Cash        14730  \n",
       "4   3123   2023-09-23      Wallet         3123  "
      ]
     },
     "execution_count": 2,
     "metadata": {},
     "output_type": "execute_result"
    }
   ],
   "source": [
    "df=pd.read_csv(\"Retail_Transactions_2000.csv\")\n",
    "df.head()"
   ]
  },
  {
   "cell_type": "markdown",
   "id": "583d28e9",
   "metadata": {},
   "source": [
    "# Part A: Data Preprocessing Tasks"
   ]
  },
  {
   "cell_type": "code",
   "execution_count": 3,
   "id": "4cea30c4",
   "metadata": {},
   "outputs": [
    {
     "data": {
      "text/plain": [
       "(2000, 11)"
      ]
     },
     "execution_count": 3,
     "metadata": {},
     "output_type": "execute_result"
    }
   ],
   "source": [
    "df.shape"
   ]
  },
  {
   "cell_type": "code",
   "execution_count": 4,
   "id": "950809a1",
   "metadata": {},
   "outputs": [
    {
     "name": "stdout",
     "output_type": "stream",
     "text": [
      "<class 'pandas.core.frame.DataFrame'>\n",
      "RangeIndex: 2000 entries, 0 to 1999\n",
      "Data columns (total 11 columns):\n",
      " #   Column           Non-Null Count  Dtype \n",
      "---  ------           --------------  ----- \n",
      " 0   TransactionID    2000 non-null   object\n",
      " 1   CustomerID       2000 non-null   object\n",
      " 2   Gender           2000 non-null   object\n",
      " 3   Age              2000 non-null   int64 \n",
      " 4   City             2000 non-null   object\n",
      " 5   ProductCategory  2000 non-null   object\n",
      " 6   Quantity         2000 non-null   int64 \n",
      " 7   Price            2000 non-null   int64 \n",
      " 8   PurchaseDate     2000 non-null   object\n",
      " 9   PaymentMode      2000 non-null   object\n",
      " 10  TotalAmount      2000 non-null   int64 \n",
      "dtypes: int64(4), object(7)\n",
      "memory usage: 172.0+ KB\n"
     ]
    }
   ],
   "source": [
    "df.info()"
   ]
  },
  {
   "cell_type": "code",
   "execution_count": 5,
   "id": "827e94ae",
   "metadata": {},
   "outputs": [
    {
     "data": {
      "text/html": [
       "<div>\n",
       "<style scoped>\n",
       "    .dataframe tbody tr th:only-of-type {\n",
       "        vertical-align: middle;\n",
       "    }\n",
       "\n",
       "    .dataframe tbody tr th {\n",
       "        vertical-align: top;\n",
       "    }\n",
       "\n",
       "    .dataframe thead th {\n",
       "        text-align: right;\n",
       "    }\n",
       "</style>\n",
       "<table border=\"1\" class=\"dataframe\">\n",
       "  <thead>\n",
       "    <tr style=\"text-align: right;\">\n",
       "      <th></th>\n",
       "      <th>Age</th>\n",
       "      <th>Quantity</th>\n",
       "      <th>Price</th>\n",
       "      <th>TotalAmount</th>\n",
       "    </tr>\n",
       "  </thead>\n",
       "  <tbody>\n",
       "    <tr>\n",
       "      <th>count</th>\n",
       "      <td>2000.000000</td>\n",
       "      <td>2000.000000</td>\n",
       "      <td>2000.00000</td>\n",
       "      <td>2000.000000</td>\n",
       "    </tr>\n",
       "    <tr>\n",
       "      <th>mean</th>\n",
       "      <td>44.679000</td>\n",
       "      <td>2.957000</td>\n",
       "      <td>2496.61000</td>\n",
       "      <td>7307.414500</td>\n",
       "    </tr>\n",
       "    <tr>\n",
       "      <th>std</th>\n",
       "      <td>15.179795</td>\n",
       "      <td>1.412143</td>\n",
       "      <td>1413.95187</td>\n",
       "      <td>5705.065758</td>\n",
       "    </tr>\n",
       "    <tr>\n",
       "      <th>min</th>\n",
       "      <td>18.000000</td>\n",
       "      <td>1.000000</td>\n",
       "      <td>100.00000</td>\n",
       "      <td>111.000000</td>\n",
       "    </tr>\n",
       "    <tr>\n",
       "      <th>25%</th>\n",
       "      <td>32.000000</td>\n",
       "      <td>2.000000</td>\n",
       "      <td>1239.00000</td>\n",
       "      <td>2756.250000</td>\n",
       "    </tr>\n",
       "    <tr>\n",
       "      <th>50%</th>\n",
       "      <td>45.000000</td>\n",
       "      <td>3.000000</td>\n",
       "      <td>2481.50000</td>\n",
       "      <td>5562.500000</td>\n",
       "    </tr>\n",
       "    <tr>\n",
       "      <th>75%</th>\n",
       "      <td>58.000000</td>\n",
       "      <td>4.000000</td>\n",
       "      <td>3695.50000</td>\n",
       "      <td>10751.250000</td>\n",
       "    </tr>\n",
       "    <tr>\n",
       "      <th>max</th>\n",
       "      <td>70.000000</td>\n",
       "      <td>5.000000</td>\n",
       "      <td>5000.00000</td>\n",
       "      <td>24950.000000</td>\n",
       "    </tr>\n",
       "  </tbody>\n",
       "</table>\n",
       "</div>"
      ],
      "text/plain": [
       "               Age     Quantity       Price   TotalAmount\n",
       "count  2000.000000  2000.000000  2000.00000   2000.000000\n",
       "mean     44.679000     2.957000  2496.61000   7307.414500\n",
       "std      15.179795     1.412143  1413.95187   5705.065758\n",
       "min      18.000000     1.000000   100.00000    111.000000\n",
       "25%      32.000000     2.000000  1239.00000   2756.250000\n",
       "50%      45.000000     3.000000  2481.50000   5562.500000\n",
       "75%      58.000000     4.000000  3695.50000  10751.250000\n",
       "max      70.000000     5.000000  5000.00000  24950.000000"
      ]
     },
     "execution_count": 5,
     "metadata": {},
     "output_type": "execute_result"
    }
   ],
   "source": [
    "df.describe()"
   ]
  },
  {
   "cell_type": "code",
   "execution_count": 6,
   "id": "d310e25e",
   "metadata": {},
   "outputs": [
    {
     "data": {
      "text/plain": [
       "TransactionID      0\n",
       "CustomerID         0\n",
       "Gender             0\n",
       "Age                0\n",
       "City               0\n",
       "ProductCategory    0\n",
       "Quantity           0\n",
       "Price              0\n",
       "PurchaseDate       0\n",
       "PaymentMode        0\n",
       "TotalAmount        0\n",
       "dtype: int64"
      ]
     },
     "execution_count": 6,
     "metadata": {},
     "output_type": "execute_result"
    }
   ],
   "source": [
    "df.isnull().sum()"
   ]
  },
  {
   "cell_type": "code",
   "execution_count": 7,
   "id": "6cfdb8a1",
   "metadata": {},
   "outputs": [
    {
     "data": {
      "text/plain": [
       "np.int64(0)"
      ]
     },
     "execution_count": 7,
     "metadata": {},
     "output_type": "execute_result"
    }
   ],
   "source": [
    "df.duplicated().sum()"
   ]
  },
  {
   "cell_type": "code",
   "execution_count": 8,
   "id": "4cc5d702",
   "metadata": {},
   "outputs": [
    {
     "name": "stdout",
     "output_type": "stream",
     "text": [
      "\n",
      "Unique values in 'Gender': ['Female' 'Other' 'Male']\n",
      "Unique values in 'City': ['Bengaluru' 'Pune' 'Hyderabad' 'Chennai' 'Delhi' 'Jaipur' 'Lucknow'\n",
      " 'Ahmedabad' 'Kolkata' 'Mumbai']\n",
      "Unique values in 'ProductCategory': ['Fashion' 'Books' 'Furniture' 'Groceries' 'Sports' 'Electronics' 'Beauty']\n",
      "Unique values in 'PaymentMode': ['Cash' 'Card' 'Wallet' 'UPI']\n"
     ]
    }
   ],
   "source": [
    "# Unique values for categorical columns\n",
    "print(\"\\nUnique values in 'Gender':\", df['Gender'].unique())\n",
    "print(\"Unique values in 'City':\", df['City'].unique())\n",
    "print(\"Unique values in 'ProductCategory':\", df['ProductCategory'].unique())\n",
    "print(\"Unique values in 'PaymentMode':\", df['PaymentMode'].unique())"
   ]
  },
  {
   "cell_type": "code",
   "execution_count": 9,
   "id": "d1f6e433",
   "metadata": {},
   "outputs": [
    {
     "name": "stdout",
     "output_type": "stream",
     "text": [
      "Rows with negative or zero values BEFORE fixing:\n",
      "Empty DataFrame\n",
      "Columns: [TransactionID, CustomerID, Gender, Age, City, ProductCategory, Quantity, Price, PurchaseDate, PaymentMode, TotalAmount]\n",
      "Index: []\n",
      "Rows with incorrect TotalAmount AFTER fixing: 0\n"
     ]
    }
   ],
   "source": [
    "df['Price'] = df['Price'].astype(float)\n",
    "\n",
    "invalid_rows = df[(df['Quantity'] <= 0) | (df['Price'] <= 0) | (df['TotalAmount'] <= 0)]\n",
    "print(\"Rows with negative or zero values BEFORE fixing:\")\n",
    "print(invalid_rows)\n",
    "\n",
    "df.loc[df['Quantity'] <= 0, 'Quantity'] = df['Quantity'].median()\n",
    "df.loc[df['Price'] <= 0, 'Price'] = df['Price'].median()\n",
    "\n",
    "\n",
    "df['TotalAmount'] = df['Quantity'] * df['Price']\n",
    "\n",
    "\n",
    "mismatch = df[df['TotalAmount'] != df['Quantity'] * df['Price']]\n",
    "print(\"Rows with incorrect TotalAmount AFTER fixing:\", mismatch.shape[0])\n"
   ]
  },
  {
   "cell_type": "code",
   "execution_count": 10,
   "id": "f76094b8",
   "metadata": {},
   "outputs": [],
   "source": [
    "df.drop(columns=['TransactionID'],inplace=True)"
   ]
  },
  {
   "cell_type": "code",
   "execution_count": 11,
   "id": "f5869497",
   "metadata": {},
   "outputs": [
    {
     "data": {
      "text/html": [
       "<div>\n",
       "<style scoped>\n",
       "    .dataframe tbody tr th:only-of-type {\n",
       "        vertical-align: middle;\n",
       "    }\n",
       "\n",
       "    .dataframe tbody tr th {\n",
       "        vertical-align: top;\n",
       "    }\n",
       "\n",
       "    .dataframe thead th {\n",
       "        text-align: right;\n",
       "    }\n",
       "</style>\n",
       "<table border=\"1\" class=\"dataframe\">\n",
       "  <thead>\n",
       "    <tr style=\"text-align: right;\">\n",
       "      <th></th>\n",
       "      <th>CustomerID</th>\n",
       "      <th>Gender</th>\n",
       "      <th>Age</th>\n",
       "      <th>City</th>\n",
       "      <th>ProductCategory</th>\n",
       "      <th>Quantity</th>\n",
       "      <th>Price</th>\n",
       "      <th>PurchaseDate</th>\n",
       "      <th>PaymentMode</th>\n",
       "      <th>TotalAmount</th>\n",
       "      <th>Month</th>\n",
       "      <th>DayOfWeek</th>\n",
       "      <th>AgeGroup</th>\n",
       "    </tr>\n",
       "  </thead>\n",
       "  <tbody>\n",
       "    <tr>\n",
       "      <th>0</th>\n",
       "      <td>C2824</td>\n",
       "      <td>Female</td>\n",
       "      <td>33</td>\n",
       "      <td>Bengaluru</td>\n",
       "      <td>Fashion</td>\n",
       "      <td>3</td>\n",
       "      <td>4479.0</td>\n",
       "      <td>2023-03-15</td>\n",
       "      <td>Cash</td>\n",
       "      <td>13437.0</td>\n",
       "      <td>3</td>\n",
       "      <td>Wednesday</td>\n",
       "      <td>Adult</td>\n",
       "    </tr>\n",
       "    <tr>\n",
       "      <th>1</th>\n",
       "      <td>C1409</td>\n",
       "      <td>Other</td>\n",
       "      <td>20</td>\n",
       "      <td>Pune</td>\n",
       "      <td>Books</td>\n",
       "      <td>5</td>\n",
       "      <td>1051.0</td>\n",
       "      <td>2023-01-22</td>\n",
       "      <td>Card</td>\n",
       "      <td>5255.0</td>\n",
       "      <td>1</td>\n",
       "      <td>Sunday</td>\n",
       "      <td>Teen</td>\n",
       "    </tr>\n",
       "    <tr>\n",
       "      <th>2</th>\n",
       "      <td>C5506</td>\n",
       "      <td>Other</td>\n",
       "      <td>47</td>\n",
       "      <td>Pune</td>\n",
       "      <td>Furniture</td>\n",
       "      <td>1</td>\n",
       "      <td>111.0</td>\n",
       "      <td>2023-04-18</td>\n",
       "      <td>Wallet</td>\n",
       "      <td>111.0</td>\n",
       "      <td>4</td>\n",
       "      <td>Tuesday</td>\n",
       "      <td>Senior</td>\n",
       "    </tr>\n",
       "    <tr>\n",
       "      <th>3</th>\n",
       "      <td>C5012</td>\n",
       "      <td>Other</td>\n",
       "      <td>21</td>\n",
       "      <td>Hyderabad</td>\n",
       "      <td>Groceries</td>\n",
       "      <td>5</td>\n",
       "      <td>2946.0</td>\n",
       "      <td>2023-08-09</td>\n",
       "      <td>Cash</td>\n",
       "      <td>14730.0</td>\n",
       "      <td>8</td>\n",
       "      <td>Wednesday</td>\n",
       "      <td>Young Adult</td>\n",
       "    </tr>\n",
       "    <tr>\n",
       "      <th>4</th>\n",
       "      <td>C4657</td>\n",
       "      <td>Female</td>\n",
       "      <td>41</td>\n",
       "      <td>Chennai</td>\n",
       "      <td>Sports</td>\n",
       "      <td>1</td>\n",
       "      <td>3123.0</td>\n",
       "      <td>2023-09-23</td>\n",
       "      <td>Wallet</td>\n",
       "      <td>3123.0</td>\n",
       "      <td>9</td>\n",
       "      <td>Saturday</td>\n",
       "      <td>Adult</td>\n",
       "    </tr>\n",
       "  </tbody>\n",
       "</table>\n",
       "</div>"
      ],
      "text/plain": [
       "  CustomerID  Gender  Age       City ProductCategory  Quantity   Price  \\\n",
       "0      C2824  Female   33  Bengaluru         Fashion         3  4479.0   \n",
       "1      C1409   Other   20       Pune           Books         5  1051.0   \n",
       "2      C5506   Other   47       Pune       Furniture         1   111.0   \n",
       "3      C5012   Other   21  Hyderabad       Groceries         5  2946.0   \n",
       "4      C4657  Female   41    Chennai          Sports         1  3123.0   \n",
       "\n",
       "  PurchaseDate PaymentMode  TotalAmount  Month  DayOfWeek     AgeGroup  \n",
       "0   2023-03-15        Cash      13437.0      3  Wednesday        Adult  \n",
       "1   2023-01-22        Card       5255.0      1     Sunday         Teen  \n",
       "2   2023-04-18      Wallet        111.0      4    Tuesday       Senior  \n",
       "3   2023-08-09        Cash      14730.0      8  Wednesday  Young Adult  \n",
       "4   2023-09-23      Wallet       3123.0      9   Saturday        Adult  "
      ]
     },
     "execution_count": 11,
     "metadata": {},
     "output_type": "execute_result"
    }
   ],
   "source": [
    "df['PurchaseDate'] = pd.to_datetime(df['PurchaseDate'])\n",
    "df['Month'] = df['PurchaseDate'].dt.month\n",
    "df['DayOfWeek'] = df['PurchaseDate'].dt.day_name()\n",
    "\n",
    "bins = [0, 20, 30, 45, 60, np.inf]  # np.inf for 60+\n",
    "labels = ['Teen', 'Young Adult', 'Adult', 'Senior', 'Elder']\n",
    "\n",
    "\n",
    "df['AgeGroup'] = pd.cut(df['Age'], bins=bins, labels=labels, right=True)\n",
    "df.head()"
   ]
  },
  {
   "cell_type": "code",
   "execution_count": 12,
   "id": "8aad23e8",
   "metadata": {},
   "outputs": [
    {
     "data": {
      "text/html": [
       "<div>\n",
       "<style scoped>\n",
       "    .dataframe tbody tr th:only-of-type {\n",
       "        vertical-align: middle;\n",
       "    }\n",
       "\n",
       "    .dataframe tbody tr th {\n",
       "        vertical-align: top;\n",
       "    }\n",
       "\n",
       "    .dataframe thead th {\n",
       "        text-align: right;\n",
       "    }\n",
       "</style>\n",
       "<table border=\"1\" class=\"dataframe\">\n",
       "  <thead>\n",
       "    <tr style=\"text-align: right;\">\n",
       "      <th></th>\n",
       "      <th>CustomerID</th>\n",
       "      <th>Gender</th>\n",
       "      <th>Age</th>\n",
       "      <th>City</th>\n",
       "      <th>ProductCategory</th>\n",
       "      <th>Quantity</th>\n",
       "      <th>Price</th>\n",
       "      <th>PurchaseDate</th>\n",
       "      <th>PaymentMode</th>\n",
       "      <th>TotalAmount</th>\n",
       "      <th>Month</th>\n",
       "      <th>DayOfWeek</th>\n",
       "      <th>AgeGroup</th>\n",
       "      <th>Gender_Encoded</th>\n",
       "      <th>City_Encoded</th>\n",
       "      <th>ProductCategory_Encoded</th>\n",
       "      <th>PaymentMode_Encoded</th>\n",
       "      <th>AgeGroup_Encoded</th>\n",
       "      <th>DayOfWeek_Encoded</th>\n",
       "    </tr>\n",
       "  </thead>\n",
       "  <tbody>\n",
       "    <tr>\n",
       "      <th>0</th>\n",
       "      <td>C2824</td>\n",
       "      <td>Female</td>\n",
       "      <td>0.288462</td>\n",
       "      <td>Bengaluru</td>\n",
       "      <td>Fashion</td>\n",
       "      <td>3</td>\n",
       "      <td>0.893673</td>\n",
       "      <td>2023-03-15</td>\n",
       "      <td>Cash</td>\n",
       "      <td>0.536495</td>\n",
       "      <td>3</td>\n",
       "      <td>Wednesday</td>\n",
       "      <td>Adult</td>\n",
       "      <td>0</td>\n",
       "      <td>1</td>\n",
       "      <td>3</td>\n",
       "      <td>1</td>\n",
       "      <td>0</td>\n",
       "      <td>6</td>\n",
       "    </tr>\n",
       "    <tr>\n",
       "      <th>1</th>\n",
       "      <td>C1409</td>\n",
       "      <td>Other</td>\n",
       "      <td>0.038462</td>\n",
       "      <td>Pune</td>\n",
       "      <td>Books</td>\n",
       "      <td>5</td>\n",
       "      <td>0.194082</td>\n",
       "      <td>2023-01-22</td>\n",
       "      <td>Card</td>\n",
       "      <td>0.207094</td>\n",
       "      <td>1</td>\n",
       "      <td>Sunday</td>\n",
       "      <td>Teen</td>\n",
       "      <td>2</td>\n",
       "      <td>9</td>\n",
       "      <td>1</td>\n",
       "      <td>0</td>\n",
       "      <td>3</td>\n",
       "      <td>3</td>\n",
       "    </tr>\n",
       "    <tr>\n",
       "      <th>2</th>\n",
       "      <td>C5506</td>\n",
       "      <td>Other</td>\n",
       "      <td>0.557692</td>\n",
       "      <td>Pune</td>\n",
       "      <td>Furniture</td>\n",
       "      <td>1</td>\n",
       "      <td>0.002245</td>\n",
       "      <td>2023-04-18</td>\n",
       "      <td>Wallet</td>\n",
       "      <td>0.000000</td>\n",
       "      <td>4</td>\n",
       "      <td>Tuesday</td>\n",
       "      <td>Senior</td>\n",
       "      <td>2</td>\n",
       "      <td>9</td>\n",
       "      <td>4</td>\n",
       "      <td>3</td>\n",
       "      <td>2</td>\n",
       "      <td>5</td>\n",
       "    </tr>\n",
       "    <tr>\n",
       "      <th>3</th>\n",
       "      <td>C5012</td>\n",
       "      <td>Other</td>\n",
       "      <td>0.057692</td>\n",
       "      <td>Hyderabad</td>\n",
       "      <td>Groceries</td>\n",
       "      <td>5</td>\n",
       "      <td>0.580816</td>\n",
       "      <td>2023-08-09</td>\n",
       "      <td>Cash</td>\n",
       "      <td>0.588550</td>\n",
       "      <td>8</td>\n",
       "      <td>Wednesday</td>\n",
       "      <td>Young Adult</td>\n",
       "      <td>2</td>\n",
       "      <td>4</td>\n",
       "      <td>5</td>\n",
       "      <td>1</td>\n",
       "      <td>4</td>\n",
       "      <td>6</td>\n",
       "    </tr>\n",
       "    <tr>\n",
       "      <th>4</th>\n",
       "      <td>C4657</td>\n",
       "      <td>Female</td>\n",
       "      <td>0.442308</td>\n",
       "      <td>Chennai</td>\n",
       "      <td>Sports</td>\n",
       "      <td>1</td>\n",
       "      <td>0.616939</td>\n",
       "      <td>2023-09-23</td>\n",
       "      <td>Wallet</td>\n",
       "      <td>0.121261</td>\n",
       "      <td>9</td>\n",
       "      <td>Saturday</td>\n",
       "      <td>Adult</td>\n",
       "      <td>0</td>\n",
       "      <td>2</td>\n",
       "      <td>6</td>\n",
       "      <td>3</td>\n",
       "      <td>0</td>\n",
       "      <td>2</td>\n",
       "    </tr>\n",
       "  </tbody>\n",
       "</table>\n",
       "</div>"
      ],
      "text/plain": [
       "  CustomerID  Gender       Age       City ProductCategory  Quantity     Price  \\\n",
       "0      C2824  Female  0.288462  Bengaluru         Fashion         3  0.893673   \n",
       "1      C1409   Other  0.038462       Pune           Books         5  0.194082   \n",
       "2      C5506   Other  0.557692       Pune       Furniture         1  0.002245   \n",
       "3      C5012   Other  0.057692  Hyderabad       Groceries         5  0.580816   \n",
       "4      C4657  Female  0.442308    Chennai          Sports         1  0.616939   \n",
       "\n",
       "  PurchaseDate PaymentMode  TotalAmount  Month  DayOfWeek     AgeGroup  \\\n",
       "0   2023-03-15        Cash     0.536495      3  Wednesday        Adult   \n",
       "1   2023-01-22        Card     0.207094      1     Sunday         Teen   \n",
       "2   2023-04-18      Wallet     0.000000      4    Tuesday       Senior   \n",
       "3   2023-08-09        Cash     0.588550      8  Wednesday  Young Adult   \n",
       "4   2023-09-23      Wallet     0.121261      9   Saturday        Adult   \n",
       "\n",
       "   Gender_Encoded  City_Encoded  ProductCategory_Encoded  PaymentMode_Encoded  \\\n",
       "0               0             1                        3                    1   \n",
       "1               2             9                        1                    0   \n",
       "2               2             9                        4                    3   \n",
       "3               2             4                        5                    1   \n",
       "4               0             2                        6                    3   \n",
       "\n",
       "   AgeGroup_Encoded  DayOfWeek_Encoded  \n",
       "0                 0                  6  \n",
       "1                 3                  3  \n",
       "2                 2                  5  \n",
       "3                 4                  6  \n",
       "4                 0                  2  "
      ]
     },
     "execution_count": 12,
     "metadata": {},
     "output_type": "execute_result"
    }
   ],
   "source": [
    "\n",
    "categorical_cols = ['Gender', 'City', 'ProductCategory', 'PaymentMode', 'AgeGroup', 'DayOfWeek']\n",
    "le = LabelEncoder()\n",
    "for col in categorical_cols:\n",
    "    df[col + '_Encoded'] = le.fit_transform(df[col])\n",
    "\n",
    "numerical_cols = ['Age', 'Price', 'TotalAmount']\n",
    "scaler = MinMaxScaler()\n",
    "df[numerical_cols] = scaler.fit_transform(df[numerical_cols])\n",
    "\n",
    "df.head()"
   ]
  },
  {
   "cell_type": "code",
   "execution_count": 13,
   "id": "4213ac96",
   "metadata": {},
   "outputs": [
    {
     "data": {
      "text/plain": [
       "CustomerID                 0\n",
       "Gender                     0\n",
       "Age                        0\n",
       "City                       0\n",
       "ProductCategory            0\n",
       "Quantity                   0\n",
       "Price                      0\n",
       "PurchaseDate               0\n",
       "PaymentMode                0\n",
       "TotalAmount                0\n",
       "Month                      0\n",
       "DayOfWeek                  0\n",
       "AgeGroup                   0\n",
       "Gender_Encoded             0\n",
       "City_Encoded               0\n",
       "ProductCategory_Encoded    0\n",
       "PaymentMode_Encoded        0\n",
       "AgeGroup_Encoded           0\n",
       "DayOfWeek_Encoded          0\n",
       "dtype: int64"
      ]
     },
     "execution_count": 13,
     "metadata": {},
     "output_type": "execute_result"
    }
   ],
   "source": [
    "df.isnull().sum()"
   ]
  },
  {
   "cell_type": "code",
   "execution_count": 14,
   "id": "7eb46151",
   "metadata": {},
   "outputs": [],
   "source": [
    "df.to_csv(\"Retail_Cleaned.csv\", index=False)\n"
   ]
  },
  {
   "cell_type": "markdown",
   "id": "d9fbb0a0",
   "metadata": {},
   "source": [
    "# Part B: Data Visualization Tasks"
   ]
  },
  {
   "cell_type": "code",
   "execution_count": 15,
   "id": "4932934d",
   "metadata": {},
   "outputs": [
    {
     "data": {
      "image/png": "[encoded data removed]",
      "text/plain": [
       "<Figure size 800x600 with 1 Axes>"
      ]
     },
     "metadata": {},
     "output_type": "display_data"
    }
   ],
   "source": [
    "plt.figure(figsize=(8,6))\n",
    "sns.histplot(df['Age'],kde=True)\n",
    "plt.title(\"Distribution of Age\")\n",
    "plt.show()"
   ]
  },
  {
   "cell_type": "code",
   "execution_count": 16,
   "id": "8725c5c9",
   "metadata": {},
   "outputs": [
    {
     "data": {
      "image/png": "[encoded data removed]",
      "text/plain": [
       "<Figure size 800x600 with 1 Axes>"
      ]
     },
     "metadata": {},
     "output_type": "display_data"
    }
   ],
   "source": [
    "import matplotlib.pyplot as plt\n",
    "\n",
    "gender_counts = df['Gender'].value_counts()\n",
    "\n",
    "plt.figure(figsize=(8,6))\n",
    "plt.bar(gender_counts.index, gender_counts.values, color='skyblue')\n",
    "plt.title(\"Distribution of Gender\")\n",
    "plt.xlabel(\"Gender\")\n",
    "plt.ylabel(\"Count\")\n",
    "plt.show()\n"
   ]
  },
  {
   "cell_type": "code",
   "execution_count": 17,
   "id": "64eef9a7",
   "metadata": {},
   "outputs": [
    {
     "data": {
      "image/png": "[encoded data removed]",
      "text/plain": [
       "<Figure size 800x600 with 1 Axes>"
      ]
     },
     "metadata": {},
     "output_type": "display_data"
    }
   ],
   "source": [
    "\n",
    "cities_count = df['City'].value_counts().head(10)\n",
    "\n",
    "plt.figure(figsize=(8,6))\n",
    "plt.bar(cities_count.index, cities_count.values, color='skyblue')\n",
    "plt.title(\"Top 10 Cities by Number of Customers\")\n",
    "plt.xlabel(\"City\")\n",
    "plt.ylabel(\"Number of Customers\")\n",
    "plt.xticks(rotation=45)\n",
    "plt.show()\n"
   ]
  },
  {
   "cell_type": "code",
   "execution_count": 18,
   "id": "3a134613",
   "metadata": {},
   "outputs": [
    {
     "data": {
      "image/png": "[encoded data removed]",
      "text/plain": [
       "<Figure size 800x600 with 1 Axes>"
      ]
     },
     "metadata": {},
     "output_type": "display_data"
    }
   ],
   "source": [
    "\n",
    "\n",
    "category_sales = df.groupby('ProductCategory')['TotalAmount'].sum().sort_values(ascending=False)\n",
    "\n",
    "plt.figure(figsize=(8,6))\n",
    "plt.bar(category_sales.index, category_sales.values, color='orange')\n",
    "plt.title(\"Total Sales by Product Category\")\n",
    "plt.xlabel(\"Product Category\")\n",
    "plt.ylabel(\"Total Sales\")\n",
    "plt.xticks(rotation=45)\n",
    "plt.show()\n"
   ]
  },
  {
   "cell_type": "code",
   "execution_count": 19,
   "id": "3a19d285",
   "metadata": {},
   "outputs": [
    {
     "data": {
      "image/png": "[encoded data removed]",
      "text/plain": [
       "<Figure size 800x600 with 1 Axes>"
      ]
     },
     "metadata": {},
     "output_type": "display_data"
    }
   ],
   "source": [
    "df['Month'] = df['PurchaseDate'].dt.month\n",
    "monthly_sales = df.groupby('Month')['TotalAmount'].sum()\n",
    "\n",
    "plt.figure(figsize=(8,6))\n",
    "plt.plot(monthly_sales.index, monthly_sales.values, marker='o', color='green')\n",
    "plt.title(\"Monthly Sales Trend\")\n",
    "plt.xlabel(\"Month\")\n",
    "plt.ylabel(\"Total Sales\")\n",
    "plt.xticks(range(1,13))\n",
    "plt.show()\n"
   ]
  },
  {
   "cell_type": "code",
   "execution_count": 20,
   "id": "61dd3dcc",
   "metadata": {},
   "outputs": [
    {
     "data": {
      "image/png": "[encoded data removed]",
      "text/plain": [
       "<Figure size 600x600 with 1 Axes>"
      ]
     },
     "metadata": {},
     "output_type": "display_data"
    }
   ],
   "source": [
    "payment_counts = df['PaymentMode'].value_counts()\n",
    "\n",
    "plt.figure(figsize=(6,6))\n",
    "plt.pie(payment_counts.values, labels=payment_counts.index, autopct='%1.1f%%', startangle=140)\n",
    "plt.title(\"Payment Mode Usage\")\n",
    "plt.show()\n"
   ]
  },
  {
   "cell_type": "code",
   "execution_count": 21,
   "id": "e16077d7",
   "metadata": {},
   "outputs": [
    {
     "name": "stderr",
     "output_type": "stream",
     "text": [
      "C:\\Users\\manos\\AppData\\Local\\Temp\\ipykernel_21012\\1674636826.py:1: FutureWarning: The default of observed=False is deprecated and will be changed to True in a future version of pandas. Pass observed=False to retain current behavior or observed=True to adopt the future default and silence this warning.\n",
      "  avg_spend_age = df.groupby('AgeGroup')['TotalAmount'].mean()\n"
     ]
    },
    {
     "data": {
      "image/png": "[encoded data removed]",
      "text/plain": [
       "<Figure size 800x600 with 1 Axes>"
      ]
     },
     "metadata": {},
     "output_type": "display_data"
    }
   ],
   "source": [
    "avg_spend_age = df.groupby('AgeGroup')['TotalAmount'].mean()\n",
    "\n",
    "plt.figure(figsize=(8,6))\n",
    "plt.bar(avg_spend_age.index, avg_spend_age.values, color='purple')\n",
    "plt.title(\"Average Spend per Customer by Age Group\")\n",
    "plt.xlabel(\"Age Group\")\n",
    "plt.ylabel(\"Average Total Amount\")\n",
    "plt.show()\n"
   ]
  },
  {
   "cell_type": "code",
   "execution_count": 22,
   "id": "baefd3ef",
   "metadata": {},
   "outputs": [
    {
     "data": {
      "image/png": "[encoded data removed]",
      "text/plain": [
       "<Figure size 1000x600 with 1 Axes>"
      ]
     },
     "metadata": {},
     "output_type": "display_data"
    }
   ],
   "source": [
    "city_revenue = df.groupby('City')['TotalAmount'].sum().sort_values(ascending=False)\n",
    "\n",
    "plt.figure(figsize=(10,6))\n",
    "plt.bar(city_revenue.index, city_revenue.values, color='skyblue')\n",
    "plt.title(\"City-wise Revenue Contribution\")\n",
    "plt.xlabel(\"City\")\n",
    "plt.ylabel(\"Total Revenue\")\n",
    "plt.xticks(rotation=45)\n",
    "plt.show()\n"
   ]
  },
  {
   "cell_type": "code",
   "execution_count": 23,
   "id": "c0127c1e",
   "metadata": {},
   "outputs": [
    {
     "data": {
      "image/png": "[encoded data removed]",
      "text/plain": [
       "<Figure size 1000x600 with 2 Axes>"
      ]
     },
     "metadata": {},
     "output_type": "display_data"
    }
   ],
   "source": [
    "import seaborn as sns\n",
    "\n",
    "heatmap_data = df.pivot_table(index='ProductCategory', columns='PaymentMode', values='TotalAmount', aggfunc='sum')\n",
    "\n",
    "plt.figure(figsize=(10,6))\n",
    "sns.heatmap(heatmap_data, annot=True, fmt=\".0f\", cmap='YlGnBu')\n",
    "plt.title(\"Product Category vs Payment Mode (Revenue)\")\n",
    "plt.show()\n"
   ]
  },
  {
   "cell_type": "code",
   "execution_count": 25,
   "id": "54fbd91e",
   "metadata": {},
   "outputs": [
    {
     "data": {
      "application/vnd.plotly.v1+json": {
       "config": {
        "plotlyServerURL": "https://plot.ly"
       },
       "data": [
        {
         "alignmentgroup": "True",
         "hovertemplate": "ProductCategory=%{x}<br>TotalAmount=%{y}<extra></extra>",
         "legendgroup": "",
         "marker": {
          "color": "#636efa",
          "pattern": {
           "shape": ""
          }
         },
         "name": "",
         "offsetgroup": "",
         "orientation": "v",
         "showlegend": false,
         "textposition": "auto",
         "type": "bar",
         "x": [
          "Beauty",
          "Books",
          "Electronics",
          "Fashion",
          "Furniture",
          "Groceries",
          "Sports"
         ],
         "xaxis": "x",
         "y": [
          86.95615765530013,
          85.61145778815573,
          81.98784170055156,
          76.04348001127259,
          91.51543942992875,
          77.07162124079069,
          80.25878658561133
         ],
         "yaxis": "y"
        }
       ],
       "layout": {
        "barmode": "relative",
        "legend": {
         "tracegroupgap": 0
        },
        "template": {
         "data": {
          "bar": [
           {
            "error_x": {
             "color": "#2a3f5f"
            },
            "error_y": {
             "color": "#2a3f5f"
            },
            "marker": {
             "line": {
              "color": "#E5ECF6",
              "width": 0.5
             },
             "pattern": {
              "fillmode": "overlay",
              "size": 10,
              "solidity": 0.2
             }
            },
            "type": "bar"
           }
          ],
          "barpolar": [
           {
            "marker": {
             "line": {
              "color": "#E5ECF6",
              "width": 0.5
             },
             "pattern": {
              "fillmode": "overlay",
              "size": 10,
              "solidity": 0.2
             }
            },
            "type": "barpolar"
           }
          ],
          "carpet": [
           {
            "aaxis": {
             "endlinecolor": "#2a3f5f",
             "gridcolor": "white",
             "linecolor": "white",
             "minorgridcolor": "white",
             "startlinecolor": "#2a3f5f"
            },
            "baxis": {
             "endlinecolor": "#2a3f5f",
             "gridcolor": "white",
             "linecolor": "white",
             "minorgridcolor": "white",
             "startlinecolor": "#2a3f5f"
            },
            "type": "carpet"
           }
          ],
          "choropleth": [
           {
            "colorbar": {
             "outlinewidth": 0,
             "ticks": ""
            },
            "type": "choropleth"
           }
          ],
          "contour": [
           {
            "colorbar": {
             "outlinewidth": 0,
             "ticks": ""
            },
            "colorscale": [
             [
              0,
              "#0d0887"
             ],
             [
              0.1111111111111111,
              "#46039f"
             ],
             [
              0.2222222222222222,
              "#7201a8"
             ],
             [
              0.3333333333333333,
              "#9c179e"
             ],
             [
              0.4444444444444444,
              "#bd3786"
             ],
             [
              0.5555555555555556,
              "#d8576b"
             ],
             [
              0.6666666666666666,
              "#ed7953"
             ],
             [
              0.7777777777777778,
              "#fb9f3a"
             ],
             [
              0.8888888888888888,
              "#fdca26"
             ],
             [
              1,
              "#f0f921"
             ]
            ],
            "type": "contour"
           }
          ],
          "contourcarpet": [
           {
            "colorbar": {
             "outlinewidth": 0,
             "ticks": ""
            },
            "type": "contourcarpet"
           }
          ],
          "heatmap": [
           {
            "colorbar": {
             "outlinewidth": 0,
             "ticks": ""
            },
            "colorscale": [
             [
              0,
              "#0d0887"
             ],
             [
              0.1111111111111111,
              "#46039f"
             ],
             [
              0.2222222222222222,
              "#7201a8"
             ],
             [
              0.3333333333333333,
              "#9c179e"
             ],
             [
              0.4444444444444444,
              "#bd3786"
             ],
             [
              0.5555555555555556,
              "#d8576b"
             ],
             [
              0.6666666666666666,
              "#ed7953"
             ],
             [
              0.7777777777777778,
              "#fb9f3a"
             ],
             [
              0.8888888888888888,
              "#fdca26"
             ],
             [
              1,
              "#f0f921"
             ]
            ],
            "type": "heatmap"
           }
          ],
          "heatmapgl": [
           {
            "colorbar": {
             "outlinewidth": 0,
             "ticks": ""
            },
            "colorscale": [
             [
              0,
              "#0d0887"
             ],
             [
              0.1111111111111111,
              "#46039f"
             ],
             [
              0.2222222222222222,
              "#7201a8"
             ],
             [
              0.3333333333333333,
              "#9c179e"
             ],
             [
              0.4444444444444444,
              "#bd3786"
             ],
             [
              0.5555555555555556,
              "#d8576b"
             ],
             [
              0.6666666666666666,
              "#ed7953"
             ],
             [
              0.7777777777777778,
              "#fb9f3a"
             ],
             [
              0.8888888888888888,
              "#fdca26"
             ],
             [
              1,
              "#f0f921"
             ]
            ],
            "type": "heatmapgl"
           }
          ],
          "histogram": [
           {
            "marker": {
             "pattern": {
              "fillmode": "overlay",
              "size": 10,
              "solidity": 0.2
             }
            },
            "type": "histogram"
           }
          ],
          "histogram2d": [
           {
            "colorbar": {
             "outlinewidth": 0,
             "ticks": ""
            },
            "colorscale": [
             [
              0,
              "#0d0887"
             ],
             [
              0.1111111111111111,
              "#46039f"
             ],
             [
              0.2222222222222222,
              "#7201a8"
             ],
             [
              0.3333333333333333,
              "#9c179e"
             ],
             [
              0.4444444444444444,
              "#bd3786"
             ],
             [
              0.5555555555555556,
              "#d8576b"
             ],
             [
              0.6666666666666666,
              "#ed7953"
             ],
             [
              0.7777777777777778,
              "#fb9f3a"
             ],
             [
              0.8888888888888888,
              "#fdca26"
             ],
             [
              1,
              "#f0f921"
             ]
            ],
            "type": "histogram2d"
           }
          ],
          "histogram2dcontour": [
           {
            "colorbar": {
             "outlinewidth": 0,
             "ticks": ""
            },
            "colorscale": [
             [
              0,
              "#0d0887"
             ],
             [
              0.1111111111111111,
              "#46039f"
             ],
             [
              0.2222222222222222,
              "#7201a8"
             ],
             [
              0.3333333333333333,
              "#9c179e"
             ],
             [
              0.4444444444444444,
              "#bd3786"
             ],
             [
              0.5555555555555556,
              "#d8576b"
             ],
             [
              0.6666666666666666,
              "#ed7953"
             ],
             [
              0.7777777777777778,
              "#fb9f3a"
             ],
             [
              0.8888888888888888,
              "#fdca26"
             ],
             [
              1,
              "#f0f921"
             ]
            ],
            "type": "histogram2dcontour"
           }
          ],
          "mesh3d": [
           {
            "colorbar": {
             "outlinewidth": 0,
             "ticks": ""
            },
            "type": "mesh3d"
           }
          ],
          "parcoords": [
           {
            "line": {
             "colorbar": {
              "outlinewidth": 0,
              "ticks": ""
             }
            },
            "type": "parcoords"
           }
          ],
          "pie": [
           {
            "automargin": true,
            "type": "pie"
           }
          ],
          "scatter": [
           {
            "fillpattern": {
             "fillmode": "overlay",
             "size": 10,
             "solidity": 0.2
            },
            "type": "scatter"
           }
          ],
          "scatter3d": [
           {
            "line": {
             "colorbar": {
              "outlinewidth": 0,
              "ticks": ""
             }
            },
            "marker": {
             "colorbar": {
              "outlinewidth": 0,
              "ticks": ""
             }
            },
            "type": "scatter3d"
           }
          ],
          "scattercarpet": [
           {
            "marker": {
             "colorbar": {
              "outlinewidth": 0,
              "ticks": ""
             }
            },
            "type": "scattercarpet"
           }
          ],
          "scattergeo": [
           {
            "marker": {
             "colorbar": {
              "outlinewidth": 0,
              "ticks": ""
             }
            },
            "type": "scattergeo"
           }
          ],
          "scattergl": [
           {
            "marker": {
             "colorbar": {
              "outlinewidth": 0,
              "ticks": ""
             }
            },
            "type": "scattergl"
           }
          ],
          "scattermapbox": [
           {
            "marker": {
             "colorbar": {
              "outlinewidth": 0,
              "ticks": ""
             }
            },
            "type": "scattermapbox"
           }
          ],
          "scatterpolar": [
           {
            "marker": {
             "colorbar": {
              "outlinewidth": 0,
              "ticks": ""
             }
            },
            "type": "scatterpolar"
           }
          ],
          "scatterpolargl": [
           {
            "marker": {
             "colorbar": {
              "outlinewidth": 0,
              "ticks": ""
             }
            },
            "type": "scatterpolargl"
           }
          ],
          "scatterternary": [
           {
            "marker": {
             "colorbar": {
              "outlinewidth": 0,
              "ticks": ""
             }
            },
            "type": "scatterternary"
           }
          ],
          "surface": [
           {
            "colorbar": {
             "outlinewidth": 0,
             "ticks": ""
            },
            "colorscale": [
             [
              0,
              "#0d0887"
             ],
             [
              0.1111111111111111,
              "#46039f"
             ],
             [
              0.2222222222222222,
              "#7201a8"
             ],
             [
              0.3333333333333333,
              "#9c179e"
             ],
             [
              0.4444444444444444,
              "#bd3786"
             ],
             [
              0.5555555555555556,
              "#d8576b"
             ],
             [
              0.6666666666666666,
              "#ed7953"
             ],
             [
              0.7777777777777778,
              "#fb9f3a"
             ],
             [
              0.8888888888888888,
              "#fdca26"
             ],
             [
              1,
              "#f0f921"
             ]
            ],
            "type": "surface"
           }
          ],
          "table": [
           {
            "cells": {
             "fill": {
              "color": "#EBF0F8"
             },
             "line": {
              "color": "white"
             }
            },
            "header": {
             "fill": {
              "color": "#C8D4E3"
             },
             "line": {
              "color": "white"
             }
            },
            "type": "table"
           }
          ]
         },
         "layout": {
          "annotationdefaults": {
           "arrowcolor": "#2a3f5f",
           "arrowhead": 0,
           "arrowwidth": 1
          },
          "autotypenumbers": "strict",
          "coloraxis": {
           "colorbar": {
            "outlinewidth": 0,
            "ticks": ""
           }
          },
          "colorscale": {
           "diverging": [
            [
             0,
             "#8e0152"
            ],
            [
             0.1,
             "#c51b7d"
            ],
            [
             0.2,
             "#de77ae"
            ],
            [
             0.3,
             "#f1b6da"
            ],
            [
             0.4,
             "#fde0ef"
            ],
            [
             0.5,
             "#f7f7f7"
            ],
            [
             0.6,
             "#e6f5d0"
            ],
            [
             0.7,
             "#b8e186"
            ],
            [
             0.8,
             "#7fbc41"
            ],
            [
             0.9,
             "#4d9221"
            ],
            [
             1,
             "#276419"
            ]
           ],
           "sequential": [
            [
             0,
             "#0d0887"
            ],
            [
             0.1111111111111111,
             "#46039f"
            ],
            [
             0.2222222222222222,
             "#7201a8"
            ],
            [
             0.3333333333333333,
             "#9c179e"
            ],
            [
             0.4444444444444444,
             "#bd3786"
            ],
            [
             0.5555555555555556,
             "#d8576b"
            ],
            [
             0.6666666666666666,
             "#ed7953"
            ],
            [
             0.7777777777777778,
             "#fb9f3a"
            ],
            [
             0.8888888888888888,
             "#fdca26"
            ],
            [
             1,
             "#f0f921"
            ]
           ],
           "sequentialminus": [
            [
             0,
             "#0d0887"
            ],
            [
             0.1111111111111111,
             "#46039f"
            ],
            [
             0.2222222222222222,
             "#7201a8"
            ],
            [
             0.3333333333333333,
             "#9c179e"
            ],
            [
             0.4444444444444444,
             "#bd3786"
            ],
            [
             0.5555555555555556,
             "#d8576b"
            ],
            [
             0.6666666666666666,
             "#ed7953"
            ],
            [
             0.7777777777777778,
             "#fb9f3a"
            ],
            [
             0.8888888888888888,
             "#fdca26"
            ],
            [
             1,
             "#f0f921"
            ]
           ]
          },
          "colorway": [
           "#636efa",
           "#EF553B",
           "#00cc96",
           "#ab63fa",
           "#FFA15A",
           "#19d3f3",
           "#FF6692",
           "#B6E880",
           "#FF97FF",
           "#FECB52"
          ],
          "font": {
           "color": "#2a3f5f"
          },
          "geo": {
           "bgcolor": "white",
           "lakecolor": "white",
           "landcolor": "#E5ECF6",
           "showlakes": true,
           "showland": true,
           "subunitcolor": "white"
          },
          "hoverlabel": {
           "align": "left"
          },
          "hovermode": "closest",
          "mapbox": {
           "style": "light"
          },
          "paper_bgcolor": "white",
          "plot_bgcolor": "#E5ECF6",
          "polar": {
           "angularaxis": {
            "gridcolor": "white",
            "linecolor": "white",
            "ticks": ""
           },
           "bgcolor": "#E5ECF6",
           "radialaxis": {
            "gridcolor": "white",
            "linecolor": "white",
            "ticks": ""
           }
          },
          "scene": {
           "xaxis": {
            "backgroundcolor": "#E5ECF6",
            "gridcolor": "white",
            "gridwidth": 2,
            "linecolor": "white",
            "showbackground": true,
            "ticks": "",
            "zerolinecolor": "white"
           },
           "yaxis": {
            "backgroundcolor": "#E5ECF6",
            "gridcolor": "white",
            "gridwidth": 2,
            "linecolor": "white",
            "showbackground": true,
            "ticks": "",
            "zerolinecolor": "white"
           },
           "zaxis": {
            "backgroundcolor": "#E5ECF6",
            "gridcolor": "white",
            "gridwidth": 2,
            "linecolor": "white",
            "showbackground": true,
            "ticks": "",
            "zerolinecolor": "white"
           }
          },
          "shapedefaults": {
           "line": {
            "color": "#2a3f5f"
           }
          },
          "ternary": {
           "aaxis": {
            "gridcolor": "white",
            "linecolor": "white",
            "ticks": ""
           },
           "baxis": {
            "gridcolor": "white",
            "linecolor": "white",
            "ticks": ""
           },
           "bgcolor": "#E5ECF6",
           "caxis": {
            "gridcolor": "white",
            "linecolor": "white",
            "ticks": ""
           }
          },
          "title": {
           "x": 0.05
          },
          "xaxis": {
           "automargin": true,
           "gridcolor": "white",
           "linecolor": "white",
           "ticks": "",
           "title": {
            "standoff": 15
           },
           "zerolinecolor": "white",
           "zerolinewidth": 2
          },
          "yaxis": {
           "automargin": true,
           "gridcolor": "white",
           "linecolor": "white",
           "ticks": "",
           "title": {
            "standoff": 15
           },
           "zerolinecolor": "white",
           "zerolinewidth": 2
          }
         }
        },
        "title": {
         "text": "Total Sales by Product Category"
        },
        "xaxis": {
         "anchor": "y",
         "domain": [
          0,
          1
         ],
         "title": {
          "text": "ProductCategory"
         }
        },
        "yaxis": {
         "anchor": "x",
         "domain": [
          0,
          1
         ],
         "title": {
          "text": "TotalAmount"
         }
        }
       }
      }
     },
     "metadata": {},
     "output_type": "display_data"
    }
   ],
   "source": [
    "import plotly.express as px\n",
    "\n",
    "fig = px.bar(df.groupby('ProductCategory')['TotalAmount'].sum().reset_index(), \n",
    "             x='ProductCategory', y='TotalAmount', title='Total Sales by Product Category')\n",
    "fig.show()\n"
   ]
  }
 ],
 "metadata": {
  "kernelspec": {
   "display_name": "base",
   "language": "python",
   "name": "python3"
  },
  "language_info": {
   "codemirror_mode": {
    "name": "ipython",
    "version": 3
   },
   "file_extension": ".py",
   "mimetype": "text/x-python",
   "name": "python",
   "nbconvert_exporter": "python",
   "pygments_lexer": "ipython3",
   "version": "3.13.5"
  }
 },
 "nbformat": 4,
 "nbformat_minor": 5
}
